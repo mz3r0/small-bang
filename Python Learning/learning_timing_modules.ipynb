{
 "cells": [
  {
   "cell_type": "markdown",
   "metadata": {},
   "source": [
    "# Measuring execution time in Python can be done with the `timeit` and `time` modules."
   ]
  },
  {
   "cell_type": "markdown",
   "metadata": {},
   "source": [
    "## Configuration"
   ]
  },
  {
   "cell_type": "code",
   "execution_count": 2,
   "metadata": {},
   "outputs": [],
   "source": [
    "from IPython.core.interactiveshell import InteractiveShell\n",
    "InteractiveShell.ast_node_interactivity = \"all\"     # Allow multiple outputs per cell"
   ]
  },
  {
   "cell_type": "code",
   "execution_count": 1,
   "metadata": {},
   "outputs": [],
   "source": [
    "import timeit\n",
    "import time"
   ]
  },
  {
   "cell_type": "markdown",
   "metadata": {},
   "source": [
    "## `timeit` standard library\n",
    "\n",
    "The `timeit` module is primarily for measuring the time of code snippets. It's also available as a CLI.\n",
    "\n",
    "[Documentation Link](https://docs.python.org/3/library/timeit.html)\n",
    "\n",
    "The sweet spot for the timeit module is benchmarking snippets, small bits of code.\n",
    "\n",
    "The default timer is `time.perf_counter()` and returns float seconds.\n",
    "\n",
    "Potential alternative: `time.perf_counter_ns()` returns integer nanoseconds."
   ]
  },
  {
   "cell_type": "markdown",
   "metadata": {},
   "source": [
    "### CLI example\n",
    "\n",
    "```bash\n",
    "$ python -m timeit \"'-'.join(map(str, range(100)))\"\n",
    "# 10000 loops, best of 5: 23.2 usec per loop\n",
    "```"
   ]
  },
  {
   "cell_type": "markdown",
   "metadata": {},
   "source": [
    "### Script example"
   ]
  },
  {
   "cell_type": "code",
   "execution_count": 12,
   "metadata": {},
   "outputs": [
    {
     "data": {
      "text/plain": [
       "14.372810600001685"
      ]
     },
     "execution_count": 12,
     "metadata": {},
     "output_type": "execute_result"
    },
    {
     "data": {
      "text/plain": [
       "0.12436809999780962"
      ]
     },
     "execution_count": 12,
     "metadata": {},
     "output_type": "execute_result"
    },
    {
     "data": {
      "text/plain": [
       "0.15884809999988647"
      ]
     },
     "execution_count": 12,
     "metadata": {},
     "output_type": "execute_result"
    },
    {
     "data": {
      "text/plain": [
       "0.1713607999990927"
      ]
     },
     "execution_count": 12,
     "metadata": {},
     "output_type": "execute_result"
    }
   ],
   "source": [
    "timeit.timeit('\"-\".join(str(n) for n in range(100))', number=10000)\n",
    "timeit.timeit('\"-\".join([str(n) for n in range(100)])', number=10000)\n",
    "timeit.timeit('\"-\".join(map(str, range(100)))', number=10000)\n",
    "timeit.timeit(lambda: \"-\".join(map(str, range(100))), number=10000)"
   ]
  },
  {
   "cell_type": "markdown",
   "metadata": {},
   "source": [
    "The number parameter determines how many times the code snippet is executed to get a more accurate measurement. Timeit will automatically determine the number of repetitions only when the CLI is used. Default value is 1 million."
   ]
  },
  {
   "cell_type": "markdown",
   "metadata": {},
   "source": [
    "#### Garbage collection\n",
    "\n",
    "By default, timeit() temporarily turns off garbage collection during the timing. The advantage of this approach is that it makes independent timings more comparable. The disadvantage is that GC may be an important component of the performance of the function being measured. If so, GC can be re-enabled as the first statement in the `setup` string. For example:\n",
    "\n",
    "```python\n",
    "timeit.Timer('for i in range(10): oct(i)', 'gc.enable()').timeit()\n",
    "```"
   ]
  },
  {
   "cell_type": "markdown",
   "metadata": {},
   "source": [
    "### Slower example"
   ]
  },
  {
   "cell_type": "code",
   "execution_count": 11,
   "metadata": {},
   "outputs": [
    {
     "data": {
      "text/plain": [
       "0.0152912000012293"
      ]
     },
     "execution_count": 11,
     "metadata": {},
     "output_type": "execute_result"
    }
   ],
   "source": [
    "import timeit\n",
    "\n",
    "code_snippet = '[x for x in range(100000) if x*x / 3 == 0]'\n",
    "timeit.timeit(stmt=code_snippet, number=1)"
   ]
  },
  {
   "cell_type": "markdown",
   "metadata": {},
   "source": [
    "## `time` standard library\n",
    "\n",
    "The `time` module is for more control, features and timing both snippets & scripts.\n",
    "\n",
    "[Documentation Link](https://docs.python.org/3/library/time.html)\n",
    "\n",
    "The `time.time()` function reports the number of seconds since the (Unix) epoch, or January 1st 1970. This timer is more appropriate for code with a generally longer execution time, i.e. in seconds, not miliseconds or less.\n",
    "\n",
    "The clock used by `time.time()` is adjustable, non-monotonic and has a lower relative precision. Its objective is more to report the system time. It allows benchmarking at various scopes however: statement, function, object, program.\n",
    "\n",
    "The `time.perf_counter()` function returns float seconds uses a clock that is not adjustable, is monotonic and is of a higher relative precision.\n",
    " \n",
    "Potential alternative: `time.perf_counter_ns()` returns integer nanoseconds."
   ]
  }
 ],
 "metadata": {
  "kernelspec": {
   "display_name": "Python 3",
   "language": "python",
   "name": "python3"
  },
  "language_info": {
   "codemirror_mode": {
    "name": "ipython",
    "version": 3
   },
   "file_extension": ".py",
   "mimetype": "text/x-python",
   "name": "python",
   "nbconvert_exporter": "python",
   "pygments_lexer": "ipython3",
   "version": "3.11.4"
  },
  "orig_nbformat": 4
 },
 "nbformat": 4,
 "nbformat_minor": 2
}
